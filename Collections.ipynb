{
  "nbformat": 4,
  "nbformat_minor": 0,
  "metadata": {
    "colab": {
      "name": "Collections.ipynb",
      "provenance": [],
      "authorship_tag": "ABX9TyOjG8KUkfsylwiN468d55Yc",
      "include_colab_link": true
    },
    "kernelspec": {
      "name": "python3",
      "display_name": "Python 3"
    },
    "language_info": {
      "name": "python"
    }
  },
  "cells": [
    {
      "cell_type": "markdown",
      "metadata": {
        "id": "view-in-github",
        "colab_type": "text"
      },
      "source": [
        "<a href=\"https://colab.research.google.com/github/AmandaFerreiraGomes/Python_Collections/blob/main/Collections.ipynb\" target=\"_parent\"><img src=\"https://colab.research.google.com/assets/colab-badge.svg\" alt=\"Open In Colab\"/></a>"
      ]
    },
    {
      "cell_type": "code",
      "source": [
        "# Função que guarda as coleções de dados que serão utilizadas: lista e dicionário. \n",
        "# Retorna uma tupla, que contém essas coleções.\n",
        "def collections() -> tuple:\n",
        "    l : list = ['Amália', 'Amanda', 'Aline']\n",
        "    \n",
        "    idades : dict = {\n",
        "          'Amália': 25,\n",
        "          'Amanda': 23,\n",
        "          'Aline': 21\n",
        "          }\n",
        "\n",
        "    return (l, idades)\n",
        "\n",
        "\n",
        "# Função principal, que executa a chamada da função collections e mostra uma mensagem.\n",
        "def main() -> None:\n",
        "    l : list= collections()[0]\n",
        "    d : dict = collections()[1]\n",
        "\n",
        "    # Para cada participante, coloca-se a posição, o nome e a idade.\n",
        "    for i in l:\n",
        "        print(f'-- A {l.index(i) + 1}ª filha é {i}. {i} tem {d[i]} anos.'.ljust(50))\n"
      ],
      "metadata": {
        "id": "SxTglh9HT1xZ"
      },
      "execution_count": null,
      "outputs": []
    },
    {
      "cell_type": "code",
      "source": [
        "main()"
      ],
      "metadata": {
        "colab": {
          "base_uri": "https://localhost:8080/"
        },
        "id": "9Iqe9YfUUFNm",
        "outputId": "28501ce8-6c75-485c-e58a-886166134031"
      },
      "execution_count": null,
      "outputs": [
        {
          "output_type": "stream",
          "name": "stdout",
          "text": [
            "-- A 1ª filha é Amália. Amália tem 25 anos.       \n",
            "-- A 2ª filha é Amanda. Amanda tem 23 anos.       \n",
            "-- A 3ª filha é Aline. Aline tem 21 anos.         \n"
          ]
        }
      ]
    },
    {
      "cell_type": "code",
      "source": [
        ""
      ],
      "metadata": {
        "id": "Ng0fm5laokpx"
      },
      "execution_count": null,
      "outputs": []
    }
  ]
}